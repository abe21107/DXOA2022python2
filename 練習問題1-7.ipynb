{
 "cells": [
  {
   "cell_type": "markdown",
   "id": "2532179b",
   "metadata": {},
   "source": [
    "## 1-7. 階層構造が不明の場合にCSVをしらみつぶしに探り当てよう！🏆（練習問題）\n",
    "\n",
    "このノートブックの最終問題です。  \n",
    "ここで紹介しているプログラムは基本的にファイルの置き場所がきれいに整っています。  \n",
    "一方で実務では、お客様から送られてくるファイルのフォルダ構成がフォルダ別に違っていたり、命名規則もバラバラだったりすることは日常茶飯事のはずです。  \n",
    "\n",
    "わざとフォルダ構成を不揃いにした「01_02_inputs」を準備していますので、どんなフォルダ構成でも適宜対応できるツールを整備してみてください。"
   ]
  },
  {
   "cell_type": "code",
   "execution_count": 1,
   "id": "3cbf0b24",
   "metadata": {},
   "outputs": [
    {
     "name": "stdout",
     "output_type": "stream",
     "text": [
      "===================\n",
      "現在のディレクトリ:  _data/01_02_inputs\n",
      "内包するディレクトリ: ['2011.04.10送付', '2011.04.20送付']\n",
      "内包するファイル:  []\n",
      "===================\n",
      "現在のディレクトリ:  _data/01_02_inputs\\2011.04.10送付\n",
      "内包するディレクトリ: ['確認済み']\n",
      "内包するファイル:  ['2011-04-06.csv', '2011-04-07.csv', '2011-04-08.csv', '2011-04-09.csv', '2011-04-10.csv']\n",
      "===================\n",
      "現在のディレクトリ:  _data/01_02_inputs\\2011.04.10送付\\確認済み\n",
      "内包するディレクトリ: []\n",
      "内包するファイル:  ['2011-04-01.csv', '2011-04-02.csv', '2011-04-03.csv', '2011-04-04.csv', '2011-04-05.csv']\n",
      "===================\n",
      "現在のディレクトリ:  _data/01_02_inputs\\2011.04.20送付\n",
      "内包するディレクトリ: []\n",
      "内包するファイル:  ['2011-4-11.csv', '2011-4-12.csv', '2011-4-13.csv', '2011-4-14.csv', '2011-4-15.csv', '2011-4-16.csv', '2011-4-17.csv', '2011-4-18.csv', '2011-4-19.csv', '2011-4-20.csv']\n"
     ]
    }
   ],
   "source": [
    "### os.walk()を使ってみる作戦を検討します。\n",
    "import os\n",
    "\n",
    "for curDir, dirs, files in os.walk(\"_data/01_02_inputs\"):\n",
    "    print('===================')\n",
    "    print(\"現在のディレクトリ: \", curDir)\n",
    "    print(\"内包するディレクトリ:\", dirs)\n",
    "    print(\"内包するファイル: \", files)"
   ]
  },
  {
   "cell_type": "code",
   "execution_count": 2,
   "id": "7f63b489",
   "metadata": {},
   "outputs": [
    {
     "name": "stdout",
     "output_type": "stream",
     "text": [
      "2011-04-06.csv\n",
      "2011-04-07.csv\n",
      "2011-04-08.csv\n",
      "2011-04-09.csv\n",
      "2011-04-10.csv\n",
      "2011-04-01.csv\n",
      "2011-04-02.csv\n",
      "2011-04-03.csv\n",
      "2011-04-04.csv\n",
      "2011-04-05.csv\n",
      "2011-4-11.csv\n",
      "2011-4-12.csv\n",
      "2011-4-13.csv\n",
      "2011-4-14.csv\n",
      "2011-4-15.csv\n",
      "2011-4-16.csv\n",
      "2011-4-17.csv\n",
      "2011-4-18.csv\n",
      "2011-4-19.csv\n",
      "2011-4-20.csv\n"
     ]
    }
   ],
   "source": [
    "### なるほど、こんな感じですね。filesの拡張子が「.csv」のものをリスト化していけば問題なさそうです。\n",
    "\n",
    "for curDir, dirs, files in os.walk(\"_data/01_02_inputs\"):\n",
    "    if len(files) > 0:\n",
    "        for file in files:\n",
    "            print(file)"
   ]
  },
  {
   "cell_type": "markdown",
   "id": "223c10bb",
   "metadata": {},
   "source": [
    "全てのcsvファイルを抽出することができました。"
   ]
  }
 ],
 "metadata": {
  "kernelspec": {
   "display_name": "Python 3 (ipykernel)",
   "language": "python",
   "name": "python3"
  },
  "language_info": {
   "codemirror_mode": {
    "name": "ipython",
    "version": 3
   },
   "file_extension": ".py",
   "mimetype": "text/x-python",
   "name": "python",
   "nbconvert_exporter": "python",
   "pygments_lexer": "ipython3",
   "version": "3.9.7"
  }
 },
 "nbformat": 4,
 "nbformat_minor": 5
}
