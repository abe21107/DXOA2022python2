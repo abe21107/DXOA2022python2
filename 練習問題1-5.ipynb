{
 "cells": [
  {
   "cell_type": "markdown",
   "id": "b541d02d",
   "metadata": {},
   "source": [
    "## 1-5. ZIPファイルのまま同様の処理をしてみよう！🔓（練習問題）\n",
    "\n",
    "CSVなどのアスキーファイルはZIPなどに圧縮して送付されることがあるし、圧縮すると容量も軽くなるので、そのままいろんな処理ができると結構助かります。  \n",
    "「*ZIPをそのまま処理する*」というのは、プログラマからすると結構あるあるです。Webで検索しながら実現してみてください！  \n",
    "検索のキーワードは、例えば…\n",
    "\n",
    "> python ZIP 解凍せず 中身 読む\n",
    "\n",
    "**Hint!**  \n",
    "https://qiita.com/YM_DSKR/items/654ba5517cd2c91b28d8  \n",
    "※zipfileというライブラリの他に、pandasというライブラリも使っていますが、zipfileというライブラリの利用方法を参照して処理を実施してみてください。"
   ]
  },
  {
   "cell_type": "code",
   "execution_count": 1,
   "id": "07358ef3",
   "metadata": {},
   "outputs": [],
   "source": [
    "### zipfileというライブラリを使っているみたいです。importできるか確認。\n",
    "import os\n",
    "import zipfile\n",
    "from glob import glob"
   ]
  },
  {
   "cell_type": "code",
   "execution_count": 2,
   "id": "fcac5263",
   "metadata": {},
   "outputs": [
    {
     "name": "stdout",
     "output_type": "stream",
     "text": [
      "01_01_inputs/ <class 'str'>\n",
      "01_01_inputs/2011.04.10æùòt/ <class 'str'>\n",
      "01_01_inputs/2011.04.10æùòt/2011-04-01.csv <class 'str'>\n",
      "01_01_inputs/2011.04.10æùòt/2011-04-02.csv <class 'str'>\n",
      "01_01_inputs/2011.04.10æùòt/2011-04-03.csv <class 'str'>\n",
      "01_01_inputs/2011.04.10æùòt/2011-04-04.csv <class 'str'>\n",
      "01_01_inputs/2011.04.10æùòt/2011-04-05.csv <class 'str'>\n",
      "01_01_inputs/2011.04.10æùòt/2011-04-06.csv <class 'str'>\n",
      "01_01_inputs/2011.04.10æùòt/2011-04-07.csv <class 'str'>\n",
      "01_01_inputs/2011.04.10æùòt/2011-04-08.csv <class 'str'>\n",
      "01_01_inputs/2011.04.10æùòt/2011-04-09.csv <class 'str'>\n",
      "01_01_inputs/2011.04.10æùòt/2011-04-10.csv <class 'str'>\n",
      "01_01_inputs/2011.04.20æùòt/ <class 'str'>\n",
      "01_01_inputs/2011.04.20æùòt/2011-4-11.csv <class 'str'>\n",
      "01_01_inputs/2011.04.20æùòt/2011-4-12.csv <class 'str'>\n",
      "01_01_inputs/2011.04.20æùòt/2011-4-13.csv <class 'str'>\n",
      "01_01_inputs/2011.04.20æùòt/2011-4-14.csv <class 'str'>\n",
      "01_01_inputs/2011.04.20æùòt/2011-4-15.csv <class 'str'>\n",
      "01_01_inputs/2011.04.20æùòt/2011-4-16.csv <class 'str'>\n",
      "01_01_inputs/2011.04.20æùòt/2011-4-17.csv <class 'str'>\n",
      "01_01_inputs/2011.04.20æùòt/2011-4-18.csv <class 'str'>\n",
      "01_01_inputs/2011.04.20æùòt/2011-4-19.csv <class 'str'>\n",
      "01_01_inputs/2011.04.20æùòt/2011-4-20.csv <class 'str'>\n"
     ]
    }
   ],
   "source": [
    "### 特にエラーでないし、ライブラリは使えそうです。\n",
    "### 上のWebサイトはちょっとわかりづらかったので、別のサイトをいくつか参照することにしました。例えば…\n",
    "### https://qiita.com/mriho/items/f82c66e7a232b6b37206\n",
    "\n",
    "### 初めて使うライブラリなので、ちょっといろいろ実験しながら、どういった風に使うか探索してみます。\n",
    "\n",
    "with zipfile.ZipFile(\"_data/01_01_inputs.zip\") as myzip:\n",
    "    for f in myzip.namelist():\n",
    "        print(f, type(f))\n",
    "\n",
    "### ファイル名を取り出してみました。文字化けしてますね。"
   ]
  },
  {
   "cell_type": "code",
   "execution_count": 3,
   "id": "3cbf0b24",
   "metadata": {},
   "outputs": [
    {
     "name": "stdout",
     "output_type": "stream",
     "text": [
      "01_01_inputs/\n",
      "01_01_inputs/2011.04.10æùòt/\n",
      "01_01_inputs/2011.04.10æùòt/2011-04-01.csv\n",
      "b'2011/4/1\\r\\nhh:mm:ss,mode0,mode1,mod2\\r\\n0:0:0,0.5667528768388364,0.885809640025079,0.23108127799976852\\r\\n1:0:0,0.4932390911591263,0.9567389749679371,0.5386684883061955\\r\\n2:0:0,0.35467021139654986,1.0354313743986343,0.8277338204905564\\r\\n3:0:0,0.26976289590214175,1.007923664776447,0.922240641173904\\r\\n4:0:0,0.09808058980562656,0.9580387405915615,1.0439051190839432\\r\\n5:0:0,0.03381736686602456,0.8241040351611789,0.9128462315840578\\r\\n6:0:0,-0.04342119584338565,0.6038022765818803,0.7865458854564342\\r\\n7:0:0,-0.18507289348238365,0.35392837868035376,0.5168374604341802\\r\\n8:0:0,-0.3081775178437788,0.17026316590550938,0.215243630081176\\r\\n9:0:0,-0.3993357916613355,-0.06222531798674147,-0.10736775444741103\\r\\n10:0:0,-0.466179662153379,-0.39721240668958674,-0.4289024669312777\\r\\n11:0:0,-0.6171251213535754,-0.5686836980428747,-0.6815168283635075\\r\\n12:0:0,-0.7235820444908528,-0.7410038839991244,-0.9341923745565225\\r\\n13:0:0,-0.7792177926837526,-0.8687752778907796,-0.9889469726949649\\r\\n14:0:0,-0.8388152540488004,-0.9672593163798019,-0.9383590770019479\\r\\n15:0:0,-0.9318340491675017,-0.9591601345838295,-0.8030720704339555\\r\\n16:0:0,-0.8855020677022091,-0.9323584895356607,-0.6330352979184555\\r\\n17:0:0,-0.9576473209732782,-0.8933804793575427,-0.3759585644002945\\r\\n18:0:0,-0.9547727218157321,-0.7332756350361733,0.039260374801927914\\r\\n19:0:0,-0.9610512658132109,-0.5523011669880535,0.28663816541076304\\r\\n20:0:0,-0.967630863912628,-0.31255113427334974,0.6682600377738356\\r\\n21:0:0,-1.0100419236228915,-0.04929870771918232,0.8226486351068419\\r\\n22:0:0,-0.9932825836691177,0.23470767199970877,0.9875856282207961\\r\\n23:0:0,-0.9656901788188537,0.4758157808040026,1.0314868805505046\\r\\n'\n"
     ]
    }
   ],
   "source": [
    "### ファイル名でファイルを取り出すみたいだけど、文字化けしていても取り出せるかな？\n",
    "\n",
    "with zipfile.ZipFile(\"_data/01_01_inputs.zip\") as myzip:\n",
    "    for f in myzip.namelist():\n",
    "        print(f)\n",
    "        if f[-4:] == \".csv\":\n",
    "            with myzip.open(f) as myfile:\n",
    "                print(myfile.read())\n",
    "            break"
   ]
  },
  {
   "cell_type": "code",
   "execution_count": 4,
   "id": "268850ab",
   "metadata": {},
   "outputs": [],
   "source": [
    "### 大丈夫ですね。\n",
    "\n",
    "### ここまでのおさらい\n",
    "def readcsv_line(f):\n",
    "    #f = open(path_of_csv)\n",
    "    head0 = f.readline()\n",
    "    head1 = f.readline()\n",
    "    data = []\n",
    "    for n in range(24):\n",
    "        tmp = f.readline()\n",
    "        data.append(tmp)\n",
    "    return head0, head1, data"
   ]
  },
  {
   "cell_type": "code",
   "execution_count": 5,
   "id": "5cfca3a6",
   "metadata": {},
   "outputs": [
    {
     "name": "stdout",
     "output_type": "stream",
     "text": [
      "01_01_inputs/\n",
      "01_01_inputs/2011.04.10æùòt/\n",
      "01_01_inputs/2011.04.10æùòt/2011-04-01.csv\n",
      "01_01_inputs/2011.04.10æùòt/2011-04-02.csv\n",
      "01_01_inputs/2011.04.10æùòt/2011-04-03.csv\n",
      "01_01_inputs/2011.04.10æùòt/2011-04-04.csv\n",
      "01_01_inputs/2011.04.10æùòt/2011-04-05.csv\n",
      "01_01_inputs/2011.04.10æùòt/2011-04-06.csv\n",
      "01_01_inputs/2011.04.10æùòt/2011-04-07.csv\n",
      "01_01_inputs/2011.04.10æùòt/2011-04-08.csv\n",
      "01_01_inputs/2011.04.10æùòt/2011-04-09.csv\n",
      "01_01_inputs/2011.04.10æùòt/2011-04-10.csv\n",
      "01_01_inputs/2011.04.20æùòt/\n",
      "01_01_inputs/2011.04.20æùòt/2011-4-11.csv\n",
      "01_01_inputs/2011.04.20æùòt/2011-4-12.csv\n",
      "01_01_inputs/2011.04.20æùòt/2011-4-13.csv\n",
      "01_01_inputs/2011.04.20æùòt/2011-4-14.csv\n",
      "01_01_inputs/2011.04.20æùòt/2011-4-15.csv\n",
      "01_01_inputs/2011.04.20æùòt/2011-4-16.csv\n",
      "01_01_inputs/2011.04.20æùòt/2011-4-17.csv\n",
      "01_01_inputs/2011.04.20æùòt/2011-4-18.csv\n",
      "01_01_inputs/2011.04.20æùòt/2011-4-19.csv\n",
      "01_01_inputs/2011.04.20æùòt/2011-4-20.csv\n"
     ]
    }
   ],
   "source": [
    "### 型を確認するとbyteになっているので、いままでの関数を使う場合は.decode()で変換が必要です。\n",
    "### 例えば、https://techacademy.jp/magazine/23353\n",
    "\n",
    "### あとは回すだけ\n",
    "\n",
    "outf = open(\"練習問題1-5-0.csv\",\"w\")\n",
    "\n",
    "with zipfile.ZipFile(\"_data/01_01_inputs.zip\") as myzip:\n",
    "    for f in myzip.namelist():\n",
    "        print(f)\n",
    "        if f[-4:] == \".csv\":\n",
    "            with myzip.open(f) as myfile:\n",
    "                head0, head1, data = readcsv_line(myfile)\n",
    "            head0 = head0.decode()\n",
    "            head1 = head1.decode()\n",
    "            #print(head0, type(head0))\n",
    "            #print(head1, type(head1))\n",
    "            date = head0[:-2]+\",\"\n",
    "            #print(date)\n",
    "            for d in data:\n",
    "                outf.write(date)\n",
    "                outf.write(d.decode()[:-1])\n",
    "            #break\n",
    "\n",
    "outf.close()"
   ]
  }
 ],
 "metadata": {
  "kernelspec": {
   "display_name": "Python 3 (ipykernel)",
   "language": "python",
   "name": "python3"
  },
  "language_info": {
   "codemirror_mode": {
    "name": "ipython",
    "version": 3
   },
   "file_extension": ".py",
   "mimetype": "text/x-python",
   "name": "python",
   "nbconvert_exporter": "python",
   "pygments_lexer": "ipython3",
   "version": "3.9.7"
  }
 },
 "nbformat": 4,
 "nbformat_minor": 5
}
