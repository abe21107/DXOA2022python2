{
 "cells": [
  {
   "cell_type": "markdown",
   "id": "c52d8342",
   "metadata": {},
   "source": [
    "## 1-4. 大量のファイルを統合して一つのファイルにしよう！🌏（練習問題）\n",
    "\n",
    "ここまでの要素技術を用いて、20あるCSVファイルを一つに統合してみましょう！  \n",
    "\n",
    "    ・まずは単なるファイルの合体のみからトライしてみてください。\n",
    "    ・合体させてみると、項目名のヘッダ情報は最初のみ必要で要らない気がしますよね。削除してみましょうか。\n",
    "    ・ヘッダ情報のうち日付は必要になりそうです。この情報をうまく反映して結合するのはどうすればよいでしょうか。\n",
    "    　解決策は一つではないと思います。実務であれば無理にPythonで対応せず、エクセルでの対応でも問題ないかと。\n",
    "    　Pythonのみで完璧を目指す場合はいくつか込み入った知識が必要です。気になる方はWebをうまく活用しながらトライしてみてください。"
   ]
  },
  {
   "cell_type": "code",
   "execution_count": 1,
   "id": "b6ae77a9",
   "metadata": {},
   "outputs": [
    {
     "name": "stdout",
     "output_type": "stream",
     "text": [
      "ファイル名： _data/01_01_inputs\\2011.04.10送付\\2011-04-01.csv 読み込んだファイルの型 <class 'str'> ヘッダ： 2011/4/1 文字数： 1613\n"
     ]
    }
   ],
   "source": [
    "### ノートブックのおさらい\n",
    "import os, glob\n",
    "\n",
    "paths = glob.glob(\"_data/01_01_inputs/*/*.csv\")\n",
    "\n",
    "def readcsv(path_of_csv):\n",
    "    f = open(path_of_csv)\n",
    "    data_of_csv = f.read()\n",
    "    f.close()\n",
    "    return data_of_csv\n",
    "\n",
    "for path in paths:\n",
    "    data = readcsv(path)\n",
    "    print(\"ファイル名：\", path, \"読み込んだファイルの型\", type(data), \"ヘッダ：\", data[0:8], \"文字数：\", len(data))\n",
    "    break"
   ]
  },
  {
   "cell_type": "code",
   "execution_count": 2,
   "id": "07358ef3",
   "metadata": {},
   "outputs": [
    {
     "name": "stdout",
     "output_type": "stream",
     "text": [
      "ファイル名： _data/01_01_inputs\\2011.04.10送付\\2011-04-01.csv 読み込んだファイルの型 <class 'str'> ヘッダ： 2011/4/1 文字数： 1613\n",
      "ファイル名： _data/01_01_inputs\\2011.04.10送付\\2011-04-02.csv 読み込んだファイルの型 <class 'str'> ヘッダ： 2011/4/2 文字数： 1618\n",
      "ファイル名： _data/01_01_inputs\\2011.04.10送付\\2011-04-03.csv 読み込んだファイルの型 <class 'str'> ヘッダ： 2011/4/3 文字数： 1618\n",
      "ファイル名： _data/01_01_inputs\\2011.04.10送付\\2011-04-04.csv 読み込んだファイルの型 <class 'str'> ヘッダ： 2011/4/4 文字数： 1593\n",
      "ファイル名： _data/01_01_inputs\\2011.04.10送付\\2011-04-05.csv 読み込んだファイルの型 <class 'str'> ヘッダ： 2011/4/5 文字数： 1600\n",
      "ファイル名： _data/01_01_inputs\\2011.04.10送付\\2011-04-06.csv 読み込んだファイルの型 <class 'str'> ヘッダ： 2011/4/6 文字数： 1618\n",
      "ファイル名： _data/01_01_inputs\\2011.04.10送付\\2011-04-07.csv 読み込んだファイルの型 <class 'str'> ヘッダ： 2011/4/7 文字数： 1610\n",
      "ファイル名： _data/01_01_inputs\\2011.04.10送付\\2011-04-08.csv 読み込んだファイルの型 <class 'str'> ヘッダ： 2011/4/8 文字数： 481\n",
      "ファイル名： _data/01_01_inputs\\2011.04.10送付\\2011-04-09.csv 読み込んだファイルの型 <class 'str'> ヘッダ： 2011/4/9 文字数： 1623\n",
      "ファイル名： _data/01_01_inputs\\2011.04.10送付\\2011-04-10.csv 読み込んだファイルの型 <class 'str'> ヘッダ： 2011/4/1 文字数： 1617\n",
      "ファイル名： _data/01_01_inputs\\2011.04.20送付\\2011-4-11.csv 読み込んだファイルの型 <class 'str'> ヘッダ： 2011/4/1 文字数： 1611\n",
      "ファイル名： _data/01_01_inputs\\2011.04.20送付\\2011-4-12.csv 読み込んだファイルの型 <class 'str'> ヘッダ： 2011/4/1 文字数： 1607\n",
      "ファイル名： _data/01_01_inputs\\2011.04.20送付\\2011-4-13.csv 読み込んだファイルの型 <class 'str'> ヘッダ： 2011/4/1 文字数： 1604\n",
      "ファイル名： _data/01_01_inputs\\2011.04.20送付\\2011-4-14.csv 読み込んだファイルの型 <class 'str'> ヘッダ： 2011/4/1 文字数： 1607\n",
      "ファイル名： _data/01_01_inputs\\2011.04.20送付\\2011-4-15.csv 読み込んだファイルの型 <class 'str'> ヘッダ： 2011/4/1 文字数： 1592\n",
      "ファイル名： _data/01_01_inputs\\2011.04.20送付\\2011-4-16.csv 読み込んだファイルの型 <class 'str'> ヘッダ： 2011/4/1 文字数： 1623\n",
      "ファイル名： _data/01_01_inputs\\2011.04.20送付\\2011-4-17.csv 読み込んだファイルの型 <class 'str'> ヘッダ： 2011/4/1 文字数： 1600\n",
      "ファイル名： _data/01_01_inputs\\2011.04.20送付\\2011-4-18.csv 読み込んだファイルの型 <class 'str'> ヘッダ： 2011/4/1 文字数： 1614\n",
      "ファイル名： _data/01_01_inputs\\2011.04.20送付\\2011-4-19.csv 読み込んだファイルの型 <class 'str'> ヘッダ： 2011/4/1 文字数： 1596\n",
      "ファイル名： _data/01_01_inputs\\2011.04.20送付\\2011-4-20.csv 読み込んだファイルの型 <class 'str'> ヘッダ： 2011/4/2 文字数： 1602\n"
     ]
    }
   ],
   "source": [
    "### 単なるファイルの合体のみ\n",
    "\n",
    "f = open(\"練習問題1-4-1.csv\",\"w\")\n",
    "for path in paths:\n",
    "    data = readcsv(path)\n",
    "    f.write(data)\n",
    "    f.write(\"\\n\") #区切り位置を見分けやすくするため改行を入れる\n",
    "    print(\"ファイル名：\", path, \"読み込んだファイルの型\", type(data), \"ヘッダ：\", data[0:8], \"文字数：\", len(data))\n",
    "f.close()"
   ]
  },
  {
   "cell_type": "code",
   "execution_count": 3,
   "id": "ff2bc3ba",
   "metadata": {},
   "outputs": [
    {
     "name": "stdout",
     "output_type": "stream",
     "text": [
      "24\n"
     ]
    }
   ],
   "source": [
    "### ヘッダ情報の削除\n",
    "\n",
    "### 次のノートブックの手法を使う他、pandasを使う、1行ずつ読み込みを使うなど、いろんな方法があるかなと思います。\n",
    "### ここでは1行ずつ読み込みで試してみます。ググってみると「readline()」という機能が見つかったりするかなと。\n",
    "\n",
    "### まずは関数を作って動作確認\n",
    "\n",
    "def readcsv_line(path_of_csv):\n",
    "    f = open(path_of_csv)\n",
    "    head0 = f.readline()\n",
    "    head1 = f.readline()\n",
    "    #print(\"head0\", head0)\n",
    "    #print(\"head1\", head1)\n",
    "    data = []\n",
    "    for n in range(24):\n",
    "        tmp = f.readline()\n",
    "        data.append(tmp)\n",
    "    return head0, head1, data\n",
    "\n",
    "for path in paths:\n",
    "    head0, head1, data = readcsv_line(path)\n",
    "    print(len(data))\n",
    "    break"
   ]
  },
  {
   "cell_type": "code",
   "execution_count": 4,
   "id": "dfdc8e98",
   "metadata": {},
   "outputs": [
    {
     "name": "stdout",
     "output_type": "stream",
     "text": [
      "_data/01_01_inputs\\2011.04.10送付\\2011-04-01.csv 24\n",
      "_data/01_01_inputs\\2011.04.10送付\\2011-04-02.csv 24\n",
      "_data/01_01_inputs\\2011.04.10送付\\2011-04-03.csv 24\n",
      "_data/01_01_inputs\\2011.04.10送付\\2011-04-04.csv 24\n",
      "_data/01_01_inputs\\2011.04.10送付\\2011-04-05.csv 24\n",
      "_data/01_01_inputs\\2011.04.10送付\\2011-04-06.csv 24\n",
      "_data/01_01_inputs\\2011.04.10送付\\2011-04-07.csv 24\n",
      "_data/01_01_inputs\\2011.04.10送付\\2011-04-08.csv 24\n",
      "_data/01_01_inputs\\2011.04.10送付\\2011-04-09.csv 24\n",
      "_data/01_01_inputs\\2011.04.10送付\\2011-04-10.csv 24\n",
      "_data/01_01_inputs\\2011.04.20送付\\2011-4-11.csv 24\n",
      "_data/01_01_inputs\\2011.04.20送付\\2011-4-12.csv 24\n",
      "_data/01_01_inputs\\2011.04.20送付\\2011-4-13.csv 24\n",
      "_data/01_01_inputs\\2011.04.20送付\\2011-4-14.csv 24\n",
      "_data/01_01_inputs\\2011.04.20送付\\2011-4-15.csv 24\n",
      "_data/01_01_inputs\\2011.04.20送付\\2011-4-16.csv 24\n",
      "_data/01_01_inputs\\2011.04.20送付\\2011-4-17.csv 24\n",
      "_data/01_01_inputs\\2011.04.20送付\\2011-4-18.csv 24\n",
      "_data/01_01_inputs\\2011.04.20送付\\2011-4-19.csv 24\n",
      "_data/01_01_inputs\\2011.04.20送付\\2011-4-20.csv 24\n"
     ]
    }
   ],
   "source": [
    "### 問題なさそうなので、全部まわしちゃいます。\n",
    "f = open(\"練習問題1-4-2.csv\",\"w\")\n",
    "for path in paths:\n",
    "    head0, head1, data = readcsv_line(path)\n",
    "    print(path, len(data))\n",
    "    for d in data:\n",
    "        f.write(d)\n",
    "    #break\n",
    "f.close()"
   ]
  },
  {
   "cell_type": "code",
   "execution_count": 5,
   "id": "60ced8fa",
   "metadata": {},
   "outputs": [
    {
     "name": "stdout",
     "output_type": "stream",
     "text": [
      "_data/01_01_inputs\\2011.04.10送付\\2011-04-01.csv\n",
      "2011/4/1,\n"
     ]
    }
   ],
   "source": [
    "### 日付も出力\n",
    "\n",
    "### 「head0」のうち、文字列の最後にある改行コードだけ邪魔なので、そこ以外をファイル書き出しすればよいです。\n",
    "### CSVで出力するならカンマも忘れずに。\n",
    "\n",
    "for path in paths:\n",
    "    head0, head1, data = readcsv_line(path)\n",
    "    print(path)\n",
    "    date = head0[:-1]+\",\"\n",
    "    print(date)\n",
    "    break"
   ]
  },
  {
   "cell_type": "code",
   "execution_count": 6,
   "id": "7b533aca",
   "metadata": {},
   "outputs": [
    {
     "name": "stdout",
     "output_type": "stream",
     "text": [
      "_data/01_01_inputs\\2011.04.10送付\\2011-04-01.csv 2011/4/1,\n",
      "_data/01_01_inputs\\2011.04.10送付\\2011-04-02.csv 2011/4/2,\n",
      "_data/01_01_inputs\\2011.04.10送付\\2011-04-03.csv 2011/4/3,\n",
      "_data/01_01_inputs\\2011.04.10送付\\2011-04-04.csv 2011/4/4,\n",
      "_data/01_01_inputs\\2011.04.10送付\\2011-04-05.csv 2011/4/5,\n",
      "_data/01_01_inputs\\2011.04.10送付\\2011-04-06.csv 2011/4/6,\n",
      "_data/01_01_inputs\\2011.04.10送付\\2011-04-07.csv 2011/4/7,\n",
      "_data/01_01_inputs\\2011.04.10送付\\2011-04-08.csv 2011/4/8,\n",
      "_data/01_01_inputs\\2011.04.10送付\\2011-04-09.csv 2011/4/9,\n",
      "_data/01_01_inputs\\2011.04.10送付\\2011-04-10.csv 2011/4/10,\n",
      "_data/01_01_inputs\\2011.04.20送付\\2011-4-11.csv 2011/4/11,\n",
      "_data/01_01_inputs\\2011.04.20送付\\2011-4-12.csv 2011/4/12,\n",
      "_data/01_01_inputs\\2011.04.20送付\\2011-4-13.csv 2011/4/13,\n",
      "_data/01_01_inputs\\2011.04.20送付\\2011-4-14.csv 2011/4/14,\n",
      "_data/01_01_inputs\\2011.04.20送付\\2011-4-15.csv 2011/4/15,\n",
      "_data/01_01_inputs\\2011.04.20送付\\2011-4-16.csv 2011/4/16,\n",
      "_data/01_01_inputs\\2011.04.20送付\\2011-4-17.csv 2011/4/17,\n",
      "_data/01_01_inputs\\2011.04.20送付\\2011-4-18.csv 2011/4/18,\n",
      "_data/01_01_inputs\\2011.04.20送付\\2011-4-19.csv 2011/4/19,\n",
      "_data/01_01_inputs\\2011.04.20送付\\2011-4-20.csv 2011/4/20,\n"
     ]
    }
   ],
   "source": [
    "f = open(\"練習問題1-4-3.csv\",\"w\")\n",
    "for path in paths:\n",
    "    head0, head1, data = readcsv_line(path)\n",
    "    date = head0[:-1]+\",\"\n",
    "    print(path, date)\n",
    "    for d in data:\n",
    "        f.write(date)\n",
    "        f.write(d)\n",
    "    #break\n",
    "f.close()"
   ]
  }
 ],
 "metadata": {
  "kernelspec": {
   "display_name": "Python 3 (ipykernel)",
   "language": "python",
   "name": "python3"
  },
  "language_info": {
   "codemirror_mode": {
    "name": "ipython",
    "version": 3
   },
   "file_extension": ".py",
   "mimetype": "text/x-python",
   "name": "python",
   "nbconvert_exporter": "python",
   "pygments_lexer": "ipython3",
   "version": "3.9.7"
  }
 },
 "nbformat": 4,
 "nbformat_minor": 5
}
