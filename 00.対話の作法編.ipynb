{
 "cells": [
  {
   "attachments": {
    "image.png": {
     "image/png": "[encoded data removed]"
    }
   },
   "cell_type": "markdown",
   "id": "f72bd188",
   "metadata": {},
   "source": [
    "# 0-1.パソコンとの会話の作法💻\n",
    "\n",
    "プログラミング言語は「ことば」です。\n",
    "とにかく話すことで習得できるものだと考えています。\n",
    "\n",
    "参考になるコードの例文を記載するので、これを基に適宜Webで検索しながら、とにかくしゃべり倒してください（コードを記述して実行）。\n",
    "特に最初のうちはコピペはせずに、キーボードで一文字一文字ちゃんと記入して実行してみてくださいね！\n",
    "プロセスがどこまで進んだか確認したい時には「print()」！\n",
    "エラー文は自分を助けてくれる大事なメッセージであり、PCとの対話です！エラー文が出たらラッキー！PCと対話できるチャンスですよ！\n",
    "動かしながら、pythonなる言葉やPCというのがどんなやつなのか、ちょっとずつ体で身に着けてくださいね！\n",
    "\n",
    "本当の最初の第一歩。\n",
    "以下の記入できるセルにこちらのコードを記述して実行してみてください！\n",
    "\n",
    "> print(\"Hello world\")\n",
    "\n",
    "実行方法は、以下のようなボタンが上の方にあると思うのでそれを押すか、「Ctrl＋Enter」です。\n",
    "![image.png](attachment:image.png)"
   ]
  },
  {
   "cell_type": "code",
   "execution_count": null,
   "id": "26f24348",
   "metadata": {},
   "outputs": [],
   "source": []
  },
  {
   "cell_type": "markdown",
   "id": "a8ca7032",
   "metadata": {},
   "source": [
    "これは*print*文といって、プログラムの動作状況を確認する時に使います。\n",
    "*チェックライト*などと呼ばれることもあるので、覚えておくと便利なことがあるかもしれませんね。\n",
    "\n",
    "次はどうでしょう？以下の3行を記入して実行してみてくだいさい！\n",
    "\n",
    "> print(\"1行目：\", 1)  \n",
    "> a = 1  \n",
    "> print(\"3行目：\", a)"
   ]
  },
  {
   "cell_type": "code",
   "execution_count": null,
   "id": "9591085b",
   "metadata": {},
   "outputs": [],
   "source": []
  },
  {
   "cell_type": "markdown",
   "id": "447cc061",
   "metadata": {},
   "source": [
    "1行目のプリントは想定どおりでしたか？「,」で区切っていろんな情報がプリントできるのが確認できたと思います。\n",
    "\n",
    "2行目の「a」は変数といいます。「a = 1」は変数「a」に数字の「1」を代入しています。\n",
    "数学の数式にちょっと似ていますね（正確にはちょっと違うものだったりしますが、その話はまたどこかで）。\n",
    "\n",
    "3行目は「3行目：a」がプリントされるかな？と思った方もいるかもしれませんが、プリントされる結果は「3行目：1」になっていると思います。この様子を見ると変数名を*print*すると変数の中身がプリントされることが確認できます。\n",
    "\n",
    "「3行目：a」とプリントさせたい場合は、例えば以下のようにすればよいと思います。実際に確認してみてください。\n",
    "\n",
    "> print(\"3行目：a\")  \n",
    "> print(\"3行目：\", \"a\")"
   ]
  },
  {
   "cell_type": "code",
   "execution_count": null,
   "id": "ea1ac4c4",
   "metadata": {},
   "outputs": [],
   "source": []
  },
  {
   "attachments": {
    "image-2.png": {
     "image/png": "[encoded data removed]"
    }
   },
   "cell_type": "markdown",
   "id": "47d0f21c",
   "metadata": {},
   "source": [
    "ここまでにエラーメッセージと出会えた人はいますか？\n",
    "\n",
    "### 練習問題1\n",
    "エラーメッセージと出会えないとなかなかスキルが蓄積されないので、以降はわざとエラーが出ている結果をいくつか示しているので、エラーメッセージを解消しながら、「Python」という言葉がどんなものかを体感していきましょう。\n",
    "最初の段階では以下の画像のようになっていると思います（※In []の数字は気にしないでください）。\n",
    "エラーメッセージとして「SyntaxError：…」と書いていますね。どこが間違っているでしょうか？\n",
    "直接修正・実行して、エラーメッセージがなくなるまで試行錯誤してみてください。\n",
    "\n",
    "![image-2.png](attachment:image-2.png)"
   ]
  },
  {
   "cell_type": "code",
   "execution_count": 2,
   "id": "b8fa2c89",
   "metadata": {},
   "outputs": [
    {
     "ename": "SyntaxError",
     "evalue": "unexpected EOF while parsing (2785228531.py, line 1)",
     "output_type": "error",
     "traceback": [
      "\u001b[1;36m  Input \u001b[1;32mIn [2]\u001b[1;36m\u001b[0m\n\u001b[1;33m    print (\"hello world\"\u001b[0m\n\u001b[1;37m                        ^\u001b[0m\n\u001b[1;31mSyntaxError\u001b[0m\u001b[1;31m:\u001b[0m unexpected EOF while parsing\n"
     ]
    }
   ],
   "source": [
    "print (\"hello world\""
   ]
  },
  {
   "attachments": {
    "image.png": {
     "image/png": "[encoded data removed]"
    }
   },
   "cell_type": "markdown",
   "id": "aa099832",
   "metadata": {},
   "source": [
    "**※ここより下はあまりスクロールしないでね！**\n",
    "\n",
    "****\n",
    "\n",
    "### 練習問題1の解説\n",
    "「)」がなかったみたいですね。\n",
    "「SyntaxError」というのは「構文エラー」で、Pythonコードが満たすべき構造をしていない（文法が正しくない）場合に出てくるエラーメッセージです。\n",
    "Jupyter Notebookや賢いエディタ（VSCode等）を使っている場合は、記述する時に空気読んで勝手に閉じる側の括弧が出現するので、こういったエラーは起こりづらくはなってきていますね。\n",
    "\n",
    "エラーメッセージを直訳すると「プログラムの解析中にファイルの最後まで来ちゃった！」という感じです。「EOF」はファイルの末尾のことです。\n",
    "エラーメッセージ全体を直接Web検索するなどしても、解決策を効率的に見つけることに役立ちます。\n",
    "\n",
    "### 練習問題2\n",
    "以下はいかがでしょうか？\n",
    "\n",
    "![image.png](attachment:image.png)"
   ]
  },
  {
   "cell_type": "code",
   "execution_count": 3,
   "id": "d72ad797",
   "metadata": {},
   "outputs": [
    {
     "ename": "NameError",
     "evalue": "name 'pirnt' is not defined",
     "output_type": "error",
     "traceback": [
      "\u001b[1;31m---------------------------------------------------------------------------\u001b[0m",
      "\u001b[1;31mNameError\u001b[0m                                 Traceback (most recent call last)",
      "Input \u001b[1;32mIn [3]\u001b[0m, in \u001b[0;36m<cell line: 1>\u001b[1;34m()\u001b[0m\n\u001b[1;32m----> 1\u001b[0m \u001b[43mpirnt\u001b[49m(\u001b[38;5;124m\"\u001b[39m\u001b[38;5;124mhellow world!\u001b[39m\u001b[38;5;124m\"\u001b[39m)\n",
      "\u001b[1;31mNameError\u001b[0m: name 'pirnt' is not defined"
     ]
    }
   ],
   "source": [
    "pirnt(\"hellow world!\")"
   ]
  },
  {
   "attachments": {
    "image.png": {
     "image/png": "[encoded data removed]"
    }
   },
   "cell_type": "markdown",
   "id": "b2df1c15",
   "metadata": {},
   "source": [
    "**※ここより下はあまりスクロールしないでね！**\n",
    "\n",
    "****\n",
    "\n",
    "### 練習問題2の解説\n",
    "こちらもよく見るエラーなので、覚えておいて損はありません。\n",
    "「NameError: name 'pirnt' is not defined」は、そんな名前の人しらないよ！ということ。\n",
    "\n",
    "これまで動いていたコードと注意深く見比べると、スペルミスに気が付くでしょうか。\n",
    "\n",
    "|||  \n",
    "|:-|:-|  \n",
    "|正|print(\"...\")|  \n",
    "|誤|pirnt(\"...\")|  \n",
    "\n",
    "### 練習問題3\n",
    "ではこちらはいかがでしょうか？　似たエラー文ですね！\n",
    "\n",
    "![image.png](attachment:image.png)"
   ]
  },
  {
   "cell_type": "code",
   "execution_count": 4,
   "id": "dc8dfa5f",
   "metadata": {},
   "outputs": [
    {
     "ename": "NameError",
     "evalue": "name 'Print' is not defined",
     "output_type": "error",
     "traceback": [
      "\u001b[1;31m---------------------------------------------------------------------------\u001b[0m",
      "\u001b[1;31mNameError\u001b[0m                                 Traceback (most recent call last)",
      "Input \u001b[1;32mIn [4]\u001b[0m, in \u001b[0;36m<cell line: 1>\u001b[1;34m()\u001b[0m\n\u001b[1;32m----> 1\u001b[0m \u001b[43mPrint\u001b[49m(\u001b[38;5;124m\"\u001b[39m\u001b[38;5;124mhello world\u001b[39m\u001b[38;5;124m\"\u001b[39m)\n",
      "\u001b[1;31mNameError\u001b[0m: name 'Print' is not defined"
     ]
    }
   ],
   "source": [
    "Print(\"hello world\")"
   ]
  },
  {
   "cell_type": "markdown",
   "id": "30919459",
   "metadata": {},
   "source": [
    "**※ここより下はあまりスクロールしないでね！**\n",
    "\n",
    "****\n",
    "\n",
    "### 練習問題3の解説\n",
    "これは最初の大文字を小文字にすればエラーが解消されます。\n",
    "「print」と「Print」はPythonは別のものとして扱っているとこが確認できると思います。"
   ]
  },
  {
   "cell_type": "markdown",
   "id": "45028464",
   "metadata": {},
   "source": [
    "# 0-2. 変数とデータ型🔰\n",
    "\n",
    "もう少し専門的なお話の解説をしていきます。  \n",
    "プログラミングで大事な概念になるのが「**変数**」と呼ばれるものです。  \n",
    "変数はデータや値を入れておく箱みたいなものです。\n",
    "\n",
    "![alt text](_img/0.2.0_variable.png \"変数\")\n",
    "\n",
    "以下のように「＝」で好きな名前の変数に値を代入することができ、任意に呼び出せます（以下の事例の場合はprint）。\n",
    "※変数は好きな名前にできますが、ちょっとだけ命名規則があり、違反するとエラーがでます。そのあたりはやりながら。"
   ]
  },
  {
   "cell_type": "code",
   "execution_count": 3,
   "id": "43b548f4",
   "metadata": {},
   "outputs": [
    {
     "name": "stdout",
     "output_type": "stream",
     "text": [
      "aは 1\n",
      "bは 1.0\n",
      "cは hello\n"
     ]
    }
   ],
   "source": [
    "a = 1\n",
    "b = 1.0\n",
    "c = \"hello\"\n",
    "\n",
    "print(\"aは\", a)\n",
    "print(\"bは\", b)\n",
    "print(\"cは\", c)"
   ]
  },
  {
   "cell_type": "markdown",
   "id": "aa5c707e",
   "metadata": {},
   "source": [
    "変数はその名のとおり、「変わる数」です。  \n",
    "変数はその中にいろんな値を入れて、例えばいろんな計算などを行うのに便利です。  \n",
    "実習の中でフル活用していきますよ！"
   ]
  },
  {
   "cell_type": "code",
   "execution_count": 6,
   "id": "8f1af54e",
   "metadata": {},
   "outputs": [
    {
     "name": "stdout",
     "output_type": "stream",
     "text": [
      "a2は 3.0\n",
      "私はpythonです\n"
     ]
    }
   ],
   "source": [
    "# 数字の計算\n",
    "a0 = 1.0\n",
    "a1 = 2.0\n",
    "a2 = a0 + a1\n",
    "print(\"a2は\", a2)\n",
    "\n",
    "# 文字の結合\n",
    "c0 = \"私は\"\n",
    "c1 = \"pythonです\"\n",
    "c2 = c0 + c1\n",
    "print(c2)"
   ]
  },
  {
   "cell_type": "markdown",
   "id": "dcedc9ad",
   "metadata": {},
   "source": [
    "## 0-2-1 リストの紹介\n",
    "\n",
    "リストは変数の集合体です。\n",
    "かぎ括弧、カンマ区切りで定義します。\n",
    "\n",
    "![alt text](_img/0.2.1_list.png \"リスト\")"
   ]
  },
  {
   "cell_type": "code",
   "execution_count": 11,
   "id": "a51ab429",
   "metadata": {},
   "outputs": [
    {
     "name": "stdout",
     "output_type": "stream",
     "text": [
      "dは [1, 1.0, 'hello'] ←これはリストです。\n"
     ]
    }
   ],
   "source": [
    "d = [1,1.0,\"hello\"]\n",
    "\n",
    "print(\"dは\",d, \"←これはリストです。\")"
   ]
  },
  {
   "cell_type": "markdown",
   "id": "6f764814",
   "metadata": {},
   "source": [
    "リストは、数値も文字もいろんなものをひとまとまりとすることができます。  \n",
    "リストの長さは「len()」というおまじないを用いることで調べることができます。\n",
    "\n",
    "また、リストの中の任意の場所の値を番号で指定して取り出すことができます。  \n",
    "番号は0始まりですので、注意。また、マイナスを指定すると後ろから何番目かで値を取り出せます。"
   ]
  },
  {
   "cell_type": "code",
   "execution_count": 13,
   "id": "9abacd77",
   "metadata": {},
   "outputs": [
    {
     "name": "stdout",
     "output_type": "stream",
     "text": [
      "リストdの長さ： 3\n",
      "リストdの0番目の値： 1\n",
      "リストdの1番目の値： 1.0\n",
      "リストdの2番目の値： hello\n",
      "リストdの-1番目の値： hello\n",
      "リストdの-2番目の値： 1.0\n",
      "リストdの-3番目の値： 1\n"
     ]
    }
   ],
   "source": [
    "print(\"リストdの長さ：\", len(d))\n",
    "print(\"リストdの0番目の値：\", d[0])\n",
    "print(\"リストdの1番目の値：\", d[1])\n",
    "print(\"リストdの2番目の値：\", d[2])\n",
    "print(\"リストdの-1番目の値：\", d[-1])\n",
    "print(\"リストdの-2番目の値：\", d[-2])\n",
    "print(\"リストdの-3番目の値：\", d[-3])"
   ]
  },
  {
   "cell_type": "markdown",
   "id": "10415703",
   "metadata": {},
   "source": [
    "ちなみに、指定した数が範囲外だとエラーがでます。"
   ]
  },
  {
   "cell_type": "code",
   "execution_count": 14,
   "id": "f6715213",
   "metadata": {},
   "outputs": [
    {
     "ename": "IndexError",
     "evalue": "list index out of range",
     "output_type": "error",
     "traceback": [
      "\u001b[1;31m---------------------------------------------------------------------------\u001b[0m",
      "\u001b[1;31mIndexError\u001b[0m                                Traceback (most recent call last)",
      "Input \u001b[1;32mIn [14]\u001b[0m, in \u001b[0;36m<cell line: 1>\u001b[1;34m()\u001b[0m\n\u001b[1;32m----> 1\u001b[0m \u001b[38;5;28mprint\u001b[39m(\u001b[43md\u001b[49m\u001b[43m[\u001b[49m\u001b[38;5;241;43m3\u001b[39;49m\u001b[43m]\u001b[49m)\n",
      "\u001b[1;31mIndexError\u001b[0m: list index out of range"
     ]
    }
   ],
   "source": [
    "print(d[3])"
   ]
  },
  {
   "cell_type": "markdown",
   "id": "59b884d5",
   "metadata": {},
   "source": [
    "## 0-2-2 辞書型の紹介\n",
    "\n",
    "この研修では、リストに比べてそれほど登場しないように準備していく予定ですが、状況によってはリストよりも使いやすい場合がありますので、「*こうゆうのもあるんだなぁ～*」程度でよいので知っておいてください。\n",
    "**辞書**はリストと同様にデータの集合体ですが、値を取り出すなどの管理を順番を基準に行っていたリストと違って、キーワードで検索をかけて管理するのが**辞書**となります。  \n",
    "\n",
    "リストと辞書で値を取り出す方法の違い：\n",
    "\n",
    "    ・リストは…a[0]\n",
    "    ・辞書は…　e[\"a\"]\n",
    "\n",
    "\n",
    "以下のような感じです。"
   ]
  },
  {
   "cell_type": "code",
   "execution_count": 9,
   "id": "be548612",
   "metadata": {},
   "outputs": [
    {
     "name": "stdout",
     "output_type": "stream",
     "text": [
      "辞書全体： {'a': 1, 'b': 1.0, 'c': 'hello'} \n",
      "\n",
      "Keyを全て表示： dict_keys(['a', 'b', 'c']) \n",
      "\n",
      "辞書eのうち、Key「a」の値は 1\n"
     ]
    }
   ],
   "source": [
    "e = {\"a\":1,\"b\":1.0,\"c\":\"hello\"}\n",
    "\n",
    "print(\"辞書全体：\", e, \"\\n\")\n",
    "print(\"Keyを全て表示：\", e.keys(), \"\\n\")\n",
    "print(\"辞書eのうち、Key「a」の値は\", e[\"a\"])"
   ]
  },
  {
   "cell_type": "markdown",
   "id": "fdc1372b",
   "metadata": {},
   "source": [
    "## 0-2-3 データの型\n",
    "\n",
    "Pythonに限らず、あらゆるプログラミン言語の変数には「**型**」や「**データ型**」と呼ばれる属性みたいな概念があります。\n",
    "\n",
    "型としては基本的には以下を覚えておけば支障ないかなと思います。\n",
    "\n",
    "    ・int　数字の整数です。\n",
    "    ・float　数字の実数です。\n",
    "    ・str　文字列です。\n",
    "    ・list　「リスト」と呼ばれるデータの集合体です。\n",
    "    ・dict　「辞書型」と呼ばれるデータの集合体です。\n",
    "\n",
    "プログラミング言語によっては変数の型を明示的に教えてあげないといけない言語もありますが、Pythonなどのユーザーフレンドリーな言語では、Pythonさんが勝手に空気を読んで自動で設定してくれます。\n",
    "変数の型が一体何と認識されているかについては「*type()*」を使って以下のように確認することができます。"
   ]
  },
  {
   "cell_type": "code",
   "execution_count": 4,
   "id": "68c73230",
   "metadata": {},
   "outputs": [
    {
     "name": "stdout",
     "output_type": "stream",
     "text": [
      "aの型は <class 'int'> です\n",
      "aの型は <class 'float'> です\n",
      "aの型は <class 'str'> です\n",
      "aの型は <class 'list'> です\n",
      "aの型は <class 'dict'> です\n"
     ]
    }
   ],
   "source": [
    "a = 1    #整数を入力すると…\n",
    "b = 1.0    #実数を入力すると…\n",
    "c = \"hello\"    #文字（コーテーションかダブルコーテーションでくくる）を入力すると…\n",
    "d = [1,1.0,\"hello\"]    #リストはかぎ括弧、カンマ区切りで入力します…\n",
    "e = {\"a\":1,\"b\":1.0,\"c\":\"hello\"}    #辞書は中括弧で、KeyとValueを\n",
    "\n",
    "print(\"aの型は\", type(a), \"です\")\n",
    "print(\"aの型は\", type(b), \"です\")\n",
    "print(\"aの型は\", type(c), \"です\")\n",
    "print(\"aの型は\", type(d), \"です\")\n",
    "print(\"aの型は\", type(e), \"です\")"
   ]
  },
  {
   "attachments": {
    "image.png": {
     "image/png": "[encoded data removed]"
    }
   },
   "cell_type": "markdown",
   "id": "5a6fc6ae",
   "metadata": {},
   "source": [
    "# 0-3 ライブラリを使ってみよう！🌐\n",
    "\n",
    "Pythonには世界中の開発者が開発した様々なライブラリを活用できることが重要なポイントです。\n",
    "Pythonをインストールした時点で最初から使えるライブラリと、後から好みや必要に応じてユーザが外部からインストールするライブラリがあります。\n",
    "※外部からのインストールは第1回の宿題「pip install ...」で実施しました。\n",
    "\n",
    "どちらのタイプのライブラリもPythonプログラミングでの使い方は同じです。\n",
    "最も基本的なライブラリの一つとして「**os**」を使ってみましょう！\n",
    "\n",
    "**os**は、フォルダを作ったり、今いる場所を調べたりなど、PCで行う基本的な操作をPython上で実現してくれるライブラリです。  \n",
    "以下のように入力、実行してもらってよいでしょうか？  \n",
    "（返ってくる値は人によってことなると思います。）\n",
    "\n",
    "![image.png](attachment:image.png)"
   ]
  },
  {
   "cell_type": "code",
   "execution_count": null,
   "id": "232ad5e8",
   "metadata": {},
   "outputs": [],
   "source": []
  },
  {
   "attachments": {
    "image.png": {
     "image/png": "[encoded data removed]"
    }
   },
   "cell_type": "markdown",
   "id": "05d784e9",
   "metadata": {},
   "source": [
    "1行目はライブラリを「インポート（使えるようにする）」しています。\n",
    "2行目は、「os」が持っている「getcwd()」メソッドを呼び出しています。\n",
    "これは「*Pythonを実行している場所（すなわちこのノートブックがある場所）を教えて！*」という「os」が持っている機能を呼び出しているおまじないです。  \n",
    "ライブラリが持っているこういったおまじない（メソッドやパラメータ）を使う場合には、ライブラリ名とおまじないの間に「.」を付けて使うのがPythonのルールです。  \n",
    "よく使う便利なものは使っていくうちに自然に覚えていくと思います。\n",
    "\n",
    "わたしの場合、「'C:\\\\Users\\\\abe21107\\\\Desktop\\\\abebe\\\\IAIR22\\\\hack\\\\02.notebooks'」というのが返ってきますが、実際にノートブックを置いた場所は以下の画像のとおり、同じ住所になっていることが確認できます。\n",
    "\n",
    "![image.png](attachment:image.png)\n",
    "\n",
    "> 【補足】プログラムを実行している場所のことを専門用語では『カレント・ディレクトリ』と呼びます。"
   ]
  },
  {
   "cell_type": "markdown",
   "id": "dd5d02be",
   "metadata": {},
   "source": [
    "ライブラリの呼び出し方としては、他にも以下のような呼び出し方があります。  \n",
    "こうゆうのもあるんだなぁ…という程度に知っておいてください。"
   ]
  },
  {
   "cell_type": "code",
   "execution_count": 19,
   "id": "d2e7791b",
   "metadata": {},
   "outputs": [],
   "source": [
    "from glob import glob # ライブラリglobの直下のglobを呼び出している\n",
    "import numpy as np # numpyというライブラリを略記「np」で呼び出している。プログラム内部では「np」とだけ記述でOK"
   ]
  },
  {
   "cell_type": "code",
   "execution_count": null,
   "id": "9ead87a4",
   "metadata": {},
   "outputs": [],
   "source": []
  }
 ],
 "metadata": {
  "kernelspec": {
   "display_name": "Python 3 (ipykernel)",
   "language": "python",
   "name": "python3"
  },
  "language_info": {
   "codemirror_mode": {
    "name": "ipython",
    "version": 3
   },
   "file_extension": ".py",
   "mimetype": "text/x-python",
   "name": "python",
   "nbconvert_exporter": "python",
   "pygments_lexer": "ipython3",
   "version": "3.9.7"
  }
 },
 "nbformat": 4,
 "nbformat_minor": 5
}
